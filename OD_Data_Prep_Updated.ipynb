{
 "cells": [
  {
   "cell_type": "code",
   "execution_count": 1,
   "metadata": {},
   "outputs": [],
   "source": [
    "from tqdm import tqdm\n",
    "import csv\n",
    "import numpy as np\n",
    "import cv2\n",
    "import pandas as pd\n",
    "import os\n",
    "from glob import glob\n",
    "import json\n",
    "from collections import namedtuple, OrderedDict\n",
    "import matplotlib.pyplot as plt\n",
    "import shutil\n",
    "import time"
   ]
  },
  {
   "cell_type": "code",
   "execution_count": 2,
   "metadata": {},
   "outputs": [],
   "source": [
    "img_dir = \"/mnt/sda/svs_workspace/PID/Digitized_PID/DigitizePID_Dataset/image_2/\"\n",
    "csv_path = \"/mnt/sda/svs_workspace/PID/Digitized_PID/digitized_labels.csv\"\n",
    "# csv_path = \"/mnt/sda/svs_workspace/PID/Digitized_PID/digitized_labels.csv\"\n",
    "# csv_path = \"/mnt/sda/svs_workspace/PID/Digitized_PID/digitized_words_labels.csv\"\n",
    "sub_folder = \"Symbols/1280_full/\"\n",
    "folder_path = \"/mnt/sda/svs_workspace/PID/Digitized_PID/Cropped_datasets/\" + sub_folder\n",
    "stop_counter = 501\n",
    "\n",
    "viz_dir = folder_path + \"image_crops_viz/\"\n",
    "img_out_dir = folder_path + \"image_crops/\"\n",
    "out_csv= folder_path + \"crop_annotations.csv\"\n",
    "\n",
    "# CROP_SIZE = 1024\n",
    "# CROP_STRIDE = 896\n",
    "\n",
    "# CROP_SIZE = 2048\n",
    "# CROP_STRIDE = 1792\n",
    "\n",
    "# CROP_SIZE = 4096\n",
    "# CROP_STRIDE = 3584\n",
    "\n",
    "CROP_SIZE = 1280\n",
    "CROP_STRIDE = 960\n",
    "\n",
    "# CROP_SIZE = 512\n",
    "# CROP_STRIDE = 384"
   ]
  },
  {
   "cell_type": "code",
   "execution_count": 3,
   "metadata": {},
   "outputs": [],
   "source": [
    "dirs_to_create = [img_out_dir, viz_dir]\n",
    "\n",
    "for d in dirs_to_create:\n",
    "    if os.path.exists(d) and os.path.isdir(d):\n",
    "        shutil.rmtree(d)\n",
    "    os.makedirs(d, exist_ok=True)"
   ]
  },
  {
   "cell_type": "code",
   "execution_count": 4,
   "metadata": {},
   "outputs": [],
   "source": [
    "def add_columns(df):\n",
    "    \n",
    "    df = df.dropna()\n",
    "    df = df[df.region_count != 0]\n",
    "\n",
    "    df['bbox_json'] = df['region_shape_attributes'].apply(json.loads)\n",
    "\n",
    "    df['x'] = df['bbox_json'].apply(lambda x: x['x'])\n",
    "    df['y'] = df['bbox_json'].apply(lambda x: x['y'])\n",
    "    df['width'] = df['bbox_json'].apply(lambda x: x['width'])\n",
    "    df['height'] = df['bbox_json'].apply(lambda x: x['height'])\n",
    "#     df['classname'] = df['region_attributes'].apply(json.loads).apply(lambda x: \"Text\")\n",
    "    df['classname'] = df['region_attributes'].apply(json.loads).apply(lambda x: x['name'])\n",
    "\n",
    "    return df\n",
    "\n",
    "def group_by_filename(df, group='filename'):\n",
    "    \n",
    "    data = namedtuple('data', ['filename', 'object'])\n",
    "    gb = df.groupby(group)\n",
    "    \n",
    "    return [data(filename, gb.get_group(x)) for filename, x in zip(gb.groups.keys(), gb.groups)]"
   ]
  },
  {
   "cell_type": "code",
   "execution_count": 5,
   "metadata": {},
   "outputs": [
    {
     "name": "stdout",
     "output_type": "stream",
     "text": [
      "  filename     x     y  width  height  classname\n",
      "0    0.jpg  1669   767     33      62         21\n",
      "1    0.jpg  1752   723     62      32         21\n",
      "2    0.jpg  1182  2011     62      33         21\n",
      "3    0.jpg  2556  3333     33      62         21\n",
      "4    0.jpg  3930  1622     32      62         21\n"
     ]
    }
   ],
   "source": [
    "df = pd.read_csv(csv_path)\n",
    "# df = add_columns(df)\n",
    "print(df.head())\n",
    "groups = group_by_filename(df)"
   ]
  },
  {
   "cell_type": "code",
   "execution_count": 6,
   "metadata": {},
   "outputs": [],
   "source": [
    "\n",
    "# for i in range(100000):\n",
    "#     new_row = {\n",
    "#         'filename': [\"crop_name\"], \n",
    "#     #                         'file_size': [os.path.getsize(os.path.join(img_out_dir, crop_name))], \n",
    "#     #                         'file_attributes': [row.file_attributes], \n",
    "#         'x': [25], \n",
    "#         'y': [25555], \n",
    "#         'width': [5656], \n",
    "#         'height': [676767],\n",
    "#         'classname': [0],\n",
    "#     #                         'class_description': [row.class_description]\n",
    "#     }\n",
    "\n",
    "#     new_row_df = pd.DataFrame(new_row)\n",
    "#     new_df = new_df.append(new_row_df, ignore_index=True)\n",
    "\n",
    "\n",
    "# print(time.time() - t1)\n",
    "# new_df.to_csv(\"./test.csv\",index=False ,mode='a',header=False)"
   ]
  },
  {
   "cell_type": "code",
   "execution_count": 7,
   "metadata": {},
   "outputs": [
    {
     "data": {
      "image/png": "[encoded data removed]",
      "text/plain": [
       "<Figure size 1800x360 with 1 Axes>"
      ]
     },
     "metadata": {
      "needs_background": "light"
     },
     "output_type": "display_data"
    }
   ],
   "source": [
    "a, b = np.unique(df['classname'], return_counts=True)\n",
    "# for c, co in zip(a, b):\n",
    "#     print(c, co)\n",
    "\n",
    "fig = plt.figure(figsize = (25, 5))\n",
    "\n",
    "# creating the bar plot\n",
    "plt.bar(a, b, color ='maroon',\n",
    "        width = 0.5)\n",
    " \n",
    "plt.xlabel(\"Label\")\n",
    "plt.ylabel(\"No. of Annotations for the label\")\n",
    "plt.title(\"Data Distribution\")\n",
    "plt.show()"
   ]
  },
  {
   "cell_type": "code",
   "execution_count": 8,
   "metadata": {},
   "outputs": [],
   "source": [
    "def get_iou(window_bbox, object_bbox):\n",
    "    \n",
    "    (w_x, w_y, w_w, w_h) = window_bbox\n",
    "    (o_x, o_y, o_w, o_h) = object_bbox\n",
    "\n",
    "    curr_x = 0\n",
    "    curr_y = 0\n",
    "    curr_w = 0\n",
    "    curr_h = 0\n",
    "    o_x2 = o_x+o_w\n",
    "    o_y2 = o_y+o_h\n",
    "    w_x2 = w_x + w_w\n",
    "    w_y2 = w_y + w_h\n",
    "    \n",
    "    if(o_x>=w_x2 or o_x2<=w_x or o_y>=w_y2 or o_y2<=w_y):\n",
    "        pass\n",
    "    else:\n",
    "        if(o_x>=w_x and o_x2<=w_x2):\n",
    "            curr_x = o_x - w_x\n",
    "            curr_w = o_w\n",
    "        elif(o_x<=w_x and o_x2>w_x and o_x2<=w_x2):\n",
    "            curr_x = 0\n",
    "            curr_w = o_x2 - w_x\n",
    "        elif(o_x>=w_x and o_x<w_x2 and o_x2>=w_x2):\n",
    "            curr_x = o_x - w_x\n",
    "            curr_w = w_x2 - o_x\n",
    "        \n",
    "        if(o_y>=w_y and o_y2<=w_y2):\n",
    "            curr_y = o_y - w_y\n",
    "            curr_h = o_h\n",
    "        elif(o_y<=w_y and o_y2>w_y and o_y2<=w_y2):\n",
    "            curr_y = 0\n",
    "            curr_h = o_y2 - w_y\n",
    "        elif(o_y>=w_y and o_y<w_y2 and o_y2>=w_y2):\n",
    "            curr_y = o_y - w_y\n",
    "            curr_h = w_y2 - o_y\n",
    "    \n",
    "    iou_object = (curr_w*curr_h) / (o_w*o_h)\n",
    "#     print([curr_x,curr_y,curr_w,curr_h], iou_object)\n",
    "    return [curr_x,curr_y,curr_w,curr_h], iou_object"
   ]
  },
  {
   "cell_type": "code",
   "execution_count": 9,
   "metadata": {},
   "outputs": [
    {
     "name": "stdout",
     "output_type": "stream",
     "text": [
      "Index(['filename', 'x', 'y', 'width', 'height', 'classname'], dtype='object')\n"
     ]
    },
    {
     "name": "stderr",
     "output_type": "stream",
     "text": [
      "Images: 100%|███████████████████████████████████████████████████████████████████████████████████████████████| 500/500 [10:45<00:00,  1.29s/it]"
     ]
    },
    {
     "name": "stdout",
     "output_type": "stream",
     "text": [
      "645.1868529319763\n"
     ]
    },
    {
     "name": "stderr",
     "output_type": "stream",
     "text": [
      "\n"
     ]
    }
   ],
   "source": [
    "import time\n",
    "t1 = time.time()\n",
    "\n",
    "new_df = pd.DataFrame(columns=df.columns)\n",
    "# new_df = new_df.drop(columns=['region_count', 'region_attributes', 'region_id', 'region_shape_attributes', 'bbox_json','file_size'])\n",
    "print(new_df.columns)\n",
    "\n",
    "if(os.path.exists(out_csv)):\n",
    "    print(\"Deleting existing csv file\")\n",
    "    os.remove(out_csv)\n",
    "\n",
    "new_df.to_csv(out_csv,index=False)\n",
    "df_counter = 0\n",
    "\n",
    "counter = 0\n",
    "for group in tqdm(groups, desc=\"Images\",position=0):\n",
    "    if(counter>=stop_counter):\n",
    "        break\n",
    "    counter+=1\n",
    "    filename = group.filename\n",
    "    image = cv2.imread(os.path.join(img_dir, filename))\n",
    "    if image is None:\n",
    "        continue\n",
    "#     if \"18\" not in filename:\n",
    "#         continue\n",
    "    image_df = group.object\n",
    "    image_h, image_w, _ = image.shape\n",
    "    \n",
    "    for window_start_x in range(0, image_w - CROP_SIZE, CROP_STRIDE):\n",
    "        for window_start_y in range(0, image_h - CROP_SIZE, CROP_STRIDE):\n",
    "            window_end_x = window_start_x + CROP_SIZE\n",
    "            window_end_y = window_start_y + CROP_SIZE\n",
    "            \n",
    "            img_crop = image[window_start_y:window_end_y, window_start_x:window_end_x, :]\n",
    "            viz_crop = np.copy(img_crop)\n",
    "            crop_name = f\"{filename[:-4]}_{window_start_x}_{window_start_y}.png\"\n",
    "            atleast_one_annotation = False\n",
    "            for row_num, row in image_df.iterrows():\n",
    "                x, y, w, h, classname = row.x, row.y, row.width, row.height, row.classname\n",
    "                \n",
    "                row_xmax = row.x + row.width\n",
    "                row_ymax = row.y + row.height\n",
    "\n",
    "                if (row.x >= window_start_x and row.x <= window_end_x) and \\\n",
    "                    (row.y >= window_start_y and row.y <= window_end_y):\n",
    "                    pass\n",
    "                elif (row_xmax >= window_start_x and row_xmax <= window_end_x) and \\\n",
    "                    (row_ymax >= window_start_y and row_ymax <= window_end_y):\n",
    "                    pass\n",
    "                elif (row.x >= window_start_x and row.x <= window_end_x) and \\\n",
    "                    (row_ymax >= window_start_y and row_ymax <= window_end_y):\n",
    "                    pass\n",
    "                elif (row_xmax >= window_start_x and row_xmax <= window_end_x) and \\\n",
    "                    (row.y >= window_start_y and row.y <= window_end_y):\n",
    "                    pass\n",
    "                else:\n",
    "                    continue\n",
    "                \n",
    "                curr_cords, object_iou = get_iou((window_start_x, window_start_y, CROP_SIZE, CROP_SIZE),\n",
    "                                              (x, y, w, h))\n",
    "                \n",
    "                if object_iou >= 0.90:\n",
    "                    if(atleast_one_annotation==False):\n",
    "                        atleast_one_annotation = True\n",
    "\n",
    "                    new_row = {\n",
    "                        'filename': [crop_name], \n",
    "#                         'file_size': [os.path.getsize(os.path.join(img_out_dir, crop_name))], \n",
    "#                         'file_attributes': [row.file_attributes], \n",
    "                        'x': [curr_cords[0]], \n",
    "                        'y': [curr_cords[1]], \n",
    "                        'width': [curr_cords[2]], \n",
    "                        'height': [curr_cords[3]],\n",
    "                        'classname': [row.classname],\n",
    "#                         'class_description': [row.class_description]\n",
    "                    }\n",
    "\n",
    "                    new_row_df = pd.DataFrame(new_row)\n",
    "                    new_df = new_df.append(new_row_df, ignore_index=True)\n",
    "                    if(df_counter==1000):\n",
    "                        new_df.to_csv(out_csv,index=False,mode='a',header=False)\n",
    "                        new_df = pd.DataFrame()\n",
    "                        df_counter=0\n",
    "                    df_counter+=1\n",
    "                    viz_crop = cv2.rectangle(viz_crop, (curr_cords[0], curr_cords[1]), (curr_cords[0]+curr_cords[2], curr_cords[1]+curr_cords[3]),\n",
    "                                         color=[0, 0, 255], thickness=3)\n",
    "\n",
    "            if(atleast_one_annotation):\n",
    "                cv2.imwrite(os.path.join(viz_dir, crop_name), viz_crop)\n",
    "                cv2.imwrite(os.path.join(img_out_dir, crop_name), img_crop)\n",
    "new_df.to_csv(out_csv,index=False,mode='a',header=False)\n",
    "print(time.time() - t1)"
   ]
  },
  {
   "cell_type": "code",
   "execution_count": null,
   "metadata": {},
   "outputs": [],
   "source": []
  }
 ],
 "metadata": {
  "kernelspec": {
   "display_name": "Python 3 (ipykernel)",
   "language": "python",
   "name": "python3"
  },
  "language_info": {
   "codemirror_mode": {
    "name": "ipython",
    "version": 3
   },
   "file_extension": ".py",
   "mimetype": "text/x-python",
   "name": "python",
   "nbconvert_exporter": "python",
   "pygments_lexer": "ipython3",
   "version": "3.7.5"
  }
 },
 "nbformat": 4,
 "nbformat_minor": 4
}
