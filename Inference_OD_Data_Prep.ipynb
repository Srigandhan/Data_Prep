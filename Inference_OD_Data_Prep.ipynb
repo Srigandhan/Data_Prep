{
 "cells": [
  {
   "cell_type": "code",
   "execution_count": 1,
   "metadata": {},
   "outputs": [],
   "source": [
    "from tqdm import tqdm\n",
    "import cv2\n",
    "import os\n",
    "import shutil\n",
    "import time"
   ]
  },
  {
   "cell_type": "code",
   "execution_count": 2,
   "metadata": {},
   "outputs": [],
   "source": [
    "img_dir = \"/mnt/sda/svs_workspace/PID/Digitized_PID/New_Dataset/\"\n",
    "sub_folder = \"Symbols/Inference_2048_1024/\"\n",
    "folder_path = \"/mnt/sda/svs_workspace/PID/Digitized_PID/Cropped_datasets/\" + sub_folder\n",
    "stop_counter = 501\n",
    "\n",
    "img_out_dir = folder_path + \"image_crops/\"\n",
    "\n",
    "# CROP_SIZE = 1024\n",
    "# CROP_STRIDE = 896\n",
    "\n",
    "# CROP_SIZE = 2048\n",
    "# CROP_STRIDE = 1792\n",
    "\n",
    "# CROP_SIZE = 4096\n",
    "# CROP_STRIDE = 3584\n",
    "\n",
    "# CROP_SIZE = 1280\n",
    "# CROP_STRIDE = 960\n",
    "\n",
    "# CROP_SIZE = 512\n",
    "# CROP_STRIDE = 384\n",
    "\n",
    "CROP_SIZE = 2048\n",
    "CROP_SIZE2 = 1024\n",
    "CROP_STRIDE = 384\n"
   ]
  },
  {
   "cell_type": "code",
   "execution_count": 3,
   "metadata": {},
   "outputs": [],
   "source": [
    "dirs_to_create = [img_out_dir]\n",
    "\n",
    "for d in dirs_to_create:\n",
    "    if os.path.exists(d) and os.path.isdir(d):\n",
    "        shutil.rmtree(d)\n",
    "    os.makedirs(d, exist_ok=True)"
   ]
  },
  {
   "cell_type": "code",
   "execution_count": 4,
   "metadata": {},
   "outputs": [
    {
     "name": "stderr",
     "output_type": "stream",
     "text": [
      "Images: 100%|███████████████████████████████████████████████████████████████████████████████████████████████████| 9/9 [00:24<00:00,  2.70s/it]"
     ]
    },
    {
     "name": "stdout",
     "output_type": "stream",
     "text": [
      "24.28862977027893\n"
     ]
    },
    {
     "name": "stderr",
     "output_type": "stream",
     "text": [
      "\n"
     ]
    }
   ],
   "source": [
    "import time\n",
    "t1 = time.time()\n",
    "data_list = os.listdir(img_dir)\n",
    "# print(data_list)\n",
    "counter = 0\n",
    "for group in tqdm(data_list, desc=\"Images\",position=0):\n",
    "    if(counter>=stop_counter):\n",
    "        break\n",
    "    counter+=1\n",
    "    filename = group\n",
    "    image = cv2.imread(os.path.join(img_dir, filename))\n",
    "    if image is None:\n",
    "        continue\n",
    "    image_h, image_w, _ = image.shape\n",
    "    for window_start_x in range(0, image_w - CROP_SIZE, CROP_STRIDE):\n",
    "        for window_start_y in range(0, image_h - CROP_SIZE2, CROP_STRIDE):\n",
    "            window_end_x = window_start_x + CROP_SIZE\n",
    "            window_end_y = window_start_y + CROP_SIZE2\n",
    "            \n",
    "            img_crop = image[window_start_y:window_end_y, window_start_x:window_end_x, :]\n",
    "            crop_name = f\"{filename[:-4]}_{window_start_x}_{window_start_y}.png\"\n",
    "            cv2.imwrite(os.path.join(img_out_dir, crop_name), img_crop)\n",
    "print(time.time() - t1)"
   ]
  },
  {
   "cell_type": "code",
   "execution_count": null,
   "metadata": {},
   "outputs": [],
   "source": []
  }
 ],
 "metadata": {
  "kernelspec": {
   "display_name": "Python 3 (ipykernel)",
   "language": "python",
   "name": "python3"
  },
  "language_info": {
   "codemirror_mode": {
    "name": "ipython",
    "version": 3
   },
   "file_extension": ".py",
   "mimetype": "text/x-python",
   "name": "python",
   "nbconvert_exporter": "python",
   "pygments_lexer": "ipython3",
   "version": "3.7.5"
  }
 },
 "nbformat": 4,
 "nbformat_minor": 4
}
